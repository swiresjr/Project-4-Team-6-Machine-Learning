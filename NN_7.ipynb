{
 "cells": [
  {
   "cell_type": "markdown",
   "metadata": {
    "id": "ajkt_8-3uVs7"
   },
   "source": [
    "## Preprocessing"
   ]
  },
  {
   "cell_type": "code",
   "execution_count": null,
   "metadata": {
    "colab": {
     "base_uri": "https://localhost:8080/",
     "height": 452
    },
    "id": "hnsq9HwnuVs-",
    "outputId": "ed30f086-b7b0-44f2-b4e0-830a60ca20c9"
   },
   "outputs": [],
   "source": [
    "# Import our dependencies\n",
    "from sklearn.model_selection import train_test_split\n",
    "from sklearn.preprocessing import StandardScaler\n",
    "import pandas as pd\n",
    "import tensorflow as tf\n",
    "from tensorflow.keras.layers import Dropout\n",
    "from tensorflow.keras.regularizers import l2\n",
    "#  Import and read the charity_data.csv.\n",
    "import pandas as pd\n",
    "\n",
    "\n",
    "# To display all rows\n",
    "pd.set_option('display.max_rows', None)\n",
    "# To display all columns\n",
    "pd.set_option('display.max_columns', None)\n",
    "\n",
    "df = pd.read_csv('/Users/phunghuynh/Desktop/NN ML/data.csv', delimiter=';')\n",
    "df.head()"
   ]
  },
  {
   "cell_type": "code",
   "execution_count": null,
   "metadata": {},
   "outputs": [],
   "source": [
    "df.info()"
   ]
  },
  {
   "cell_type": "code",
   "execution_count": null,
   "metadata": {},
   "outputs": [],
   "source": [
    "df.rename(columns={\"Daytime/evening attendance\\t\": \"Attendance\"}, inplace=True)\n",
    "df.head()\n"
   ]
  },
  {
   "cell_type": "code",
   "execution_count": null,
   "metadata": {},
   "outputs": [],
   "source": [
    "print(df['Target'].unique())"
   ]
  },
  {
   "cell_type": "code",
   "execution_count": null,
   "metadata": {},
   "outputs": [],
   "source": [
    "# Create a reverse mapping dictionary\n",
    "mapping = {\"Dropout\": 0, \"Graduate\": 1, \"Enrolled\": 2}\n",
    "\n",
    "# Replace values in the \"Target\" column using the mapping\n",
    "df[\"Target\"] = df[\"Target\"].map(mapping)\n",
    "\n",
    "# Verify the changes by printing the first few rows\n",
    "print(df.head())\n"
   ]
  },
  {
   "cell_type": "code",
   "execution_count": null,
   "metadata": {
    "colab": {
     "base_uri": "https://localhost:8080/"
    },
    "id": "wZVY-nENve28",
    "outputId": "3c321f8e-befc-4ce1-d8b9-166402faefc7"
   },
   "outputs": [],
   "source": [
    "# Determine the number of unique values in each column.\n",
    "print(df.nunique())"
   ]
  },
  {
   "cell_type": "code",
   "execution_count": null,
   "metadata": {
    "colab": {
     "base_uri": "https://localhost:8080/"
    },
    "id": "EAOMzOituVtB",
    "outputId": "1f71da61-4fb0-49e1-ee9b-55dad7a4406f"
   },
   "outputs": [],
   "source": [
    "# Look at Admission grade value counts to identify and replace with \"Other\"\n",
    "# Admission_grade_counts = df['Admission grade'].value_counts()\n",
    "# print(Admission_grade_counts)"
   ]
  },
  {
   "cell_type": "code",
   "execution_count": null,
   "metadata": {
    "colab": {
     "base_uri": "https://localhost:8080/",
     "height": 398
    },
    "id": "KyuVtiNeuVtB",
    "outputId": "5850ec2d-5a6a-45f7-94b3-b91f740451c3"
   },
   "outputs": [],
   "source": [
    "# # Choose a cutoff value and create a list of Admission grade to be replaced\n",
    "# # use the variable name `Admission_grade_to_replace`\n",
    "# Admission_grade_to_replace = Admission_grade_counts[Admission_grade_counts < 8].index.tolist()\n",
    "\n",
    "# # Replace in dataframe\n",
    "# for grade in Admission_grade_to_replace:\n",
    "#     df['Admission grade'] = df['Admission grade'].replace(grade,\"Other\")\n",
    "\n",
    "# # Check to make sure replacement was successful\n",
    "# df['Admission grade'].value_counts()"
   ]
  },
  {
   "cell_type": "code",
   "execution_count": null,
   "metadata": {
    "colab": {
     "base_uri": "https://localhost:8080/"
    },
    "id": "fCL6Q5heuVtB",
    "outputId": "defcf17c-f200-4421-f637-31d2b36c2fa6"
   },
   "outputs": [],
   "source": [
    "# Look at \"Curricular units 1st sem (grade)\" value counts to identify and replace with \"Other\"\n",
    "# first_sem_grade_counts = df['Curricular units 1st sem (grade)'].value_counts()\n",
    "# print(first_sem_grade_counts)"
   ]
  },
  {
   "cell_type": "code",
   "execution_count": null,
   "metadata": {
    "colab": {
     "base_uri": "https://localhost:8080/",
     "height": 1000
    },
    "id": "mGE3W9wfuVtC",
    "outputId": "d774b713-058d-418a-bcd8-b3c3549a32db"
   },
   "outputs": [],
   "source": [
    "# # look at Curricular units 1st sem (grade) value counts >1\n",
    "# first_sem_grade_counts[first_sem_grade_counts > 1]"
   ]
  },
  {
   "cell_type": "code",
   "execution_count": null,
   "metadata": {
    "colab": {
     "base_uri": "https://localhost:8080/",
     "height": 492
    },
    "id": "TmvLkgMQuVtD",
    "outputId": "d0d783f6-ebf8-4155-c3b4-9a665854c3cc"
   },
   "outputs": [],
   "source": [
    "# # Choose a cutoff value and create a list of \"Curricular units 1st sem (grade)\" to be replaced\n",
    "# # use the variable name `first_sem_grade_to_replace`\n",
    "# first_sem_grade_to_replace = first_sem_grade_counts[first_sem_grade_counts < 100].index.tolist()\n",
    "# # Replace in dataframe\n",
    "# for first_sem_grade in first_sem_grade_to_replace:\n",
    "#     df['Curricular units 1st sem (grade)'] = df['Curricular units 1st sem (grade)'].replace(first_sem_grade,\"Other\")\n",
    "\n",
    "# # Check to make sure replacement was successful\n",
    "# df['Curricular units 1st sem (grade)'].value_counts()"
   ]
  },
  {
   "cell_type": "code",
   "execution_count": null,
   "metadata": {
    "id": "Nef89UbGuVtE"
   },
   "outputs": [],
   "source": [
    "# Convert categorical data to numeric with `pd.get_dummies`\n",
    "df = pd.get_dummies(df, drop_first=True)"
   ]
  },
  {
   "cell_type": "code",
   "execution_count": null,
   "metadata": {
    "id": "ed57Eet0uVtE"
   },
   "outputs": [],
   "source": [
    "# Split our preprocessed data into our features and target arrays\n",
    "y = df['Target'].values\n",
    "X = df.drop(['Target'], axis=1).values\n",
    "\n",
    "# Split the preprocessed data into a training and testing dataset\n",
    "X_train, X_test, y_train, y_test = train_test_split(X, y, random_state=78)"
   ]
  },
  {
   "cell_type": "code",
   "execution_count": null,
   "metadata": {
    "id": "rPuO4RqHuVtE"
   },
   "outputs": [],
   "source": [
    "# Create a StandardScaler instances\n",
    "scaler = StandardScaler()\n",
    "\n",
    "# Fit the StandardScaler\n",
    "X_scaler = scaler.fit(X_train)\n",
    "\n",
    "# Scale the data\n",
    "X_train_scaled = X_scaler.transform(X_train)\n",
    "X_test_scaled = X_scaler.transform(X_test)"
   ]
  },
  {
   "cell_type": "markdown",
   "metadata": {
    "id": "qRJG3kd0uVtF"
   },
   "source": [
    "## Compile, Train and Evaluate the Model"
   ]
  },
  {
   "cell_type": "code",
   "execution_count": null,
   "metadata": {
    "colab": {
     "base_uri": "https://localhost:8080/",
     "height": 287
    },
    "id": "ssDpQy0GuVtF",
    "outputId": "58605379-6023-4e3f-f4d4-4dd9cc8ba583"
   },
   "outputs": [],
   "source": [
    "# Define the model - deep neural net, i.e., the number of input features and hidden nodes for each layer.\n",
    "number_input_features = X_train.shape[1]\n",
    "hidden_nodes_layer1 = 24\n",
    "hidden_nodes_layer2 = 24\n",
    "hidden_nodes_layer3 = 12\n",
    "\n",
    "nn = tf.keras.models.Sequential()\n",
    "\n",
    "# First hidden layer\n",
    "nn.add(tf.keras.layers.Dense(units=hidden_nodes_layer1, input_dim=number_input_features, activation='tanh'))\n",
    "nn.add(Dropout(0.5))\n",
    "# Second hidden layer\n",
    "nn.add(tf.keras.layers.Dense(units=hidden_nodes_layer2, activation='tanh'))\n",
    "nn.add(Dropout(0.5))  # Dropout layer with 50% rate\n",
    "# Third hidden layer\n",
    "nn.add(tf.keras.layers.Dense(units=hidden_nodes_layer3, activation='tanh'))\n",
    "nn.add(Dropout(0.5))  # Dropout layer with 50% rate\n",
    "# Output layer\n",
    "nn.add(tf.keras.layers.Dense(units=1, activation='sigmoid'))\n",
    "\n",
    "# Check the structure of the model\n",
    "nn.summary()"
   ]
  },
  {
   "cell_type": "code",
   "execution_count": null,
   "metadata": {
    "id": "PbQ-cu9tuVtF"
   },
   "outputs": [],
   "source": [
    "from tensorflow.keras.callbacks import EarlyStopping\n",
    "\n",
    "# Compile the model\n",
    "nn.compile(loss='binary_crossentropy', optimizer='adam', metrics=['accuracy'])\n",
    "# Add early stopping\n",
    "early_stopping = EarlyStopping(monitor='val_loss', patience=10)\n"
   ]
  },
  {
   "cell_type": "code",
   "execution_count": null,
   "metadata": {
    "colab": {
     "base_uri": "https://localhost:8080/"
    },
    "id": "0Vq3kYd-uVtF",
    "outputId": "ecab21ff-2f8b-4096-9dc4-1b45d7dd73c0"
   },
   "outputs": [],
   "source": [
    "# Train the model\n",
    "fit_model = nn.fit(X_train_scaled, y_train, validation_data=(X_test_scaled, y_test), epochs=500, callbacks=[early_stopping])\n"
   ]
  },
  {
   "cell_type": "code",
   "execution_count": null,
   "metadata": {
    "colab": {
     "base_uri": "https://localhost:8080/"
    },
    "id": "2OsDvBdfuVtF",
    "outputId": "1a2deb94-c83a-47e9-e5bd-3db45834a8b0"
   },
   "outputs": [],
   "source": [
    "# Evaluate the model using the test data\n",
    "model_loss, model_accuracy = nn.evaluate(X_test_scaled,y_test,verbose=2)\n",
    "print(f\"Loss: {model_loss}, Accuracy: {model_accuracy}\")"
   ]
  }
 ],
 "metadata": {
  "colab": {
   "provenance": []
  },
  "kernelspec": {
   "display_name": "Python 3 (ipykernel)",
   "language": "python",
   "name": "python3"
  },
  "language_info": {
   "codemirror_mode": {
    "name": "ipython",
    "version": 3
   },
   "file_extension": ".py",
   "mimetype": "text/x-python",
   "name": "python",
   "nbconvert_exporter": "python",
   "pygments_lexer": "ipython3",
   "version": "3.12.2"
  },
  "vscode": {
   "interpreter": {
    "hash": "31f2aee4e71d21fbe5cf8b01ff0e069b9275f58929596ceb00d14d90e3e16cd6"
   }
  }
 },
 "nbformat": 4,
 "nbformat_minor": 4
}
